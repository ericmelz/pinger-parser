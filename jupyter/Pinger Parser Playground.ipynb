{
 "cells": [
  {
   "cell_type": "code",
   "execution_count": 1,
   "id": "fc48cbe7",
   "metadata": {},
   "outputs": [],
   "source": [
    "import pandas as pd"
   ]
  },
  {
   "cell_type": "code",
   "execution_count": 5,
   "id": "e92d0d9c",
   "metadata": {},
   "outputs": [],
   "source": [
    "header_list = ['timestamp', 'latency_ms']\n",
    "df = pd.read_csv('/Users/emelz/Documents/code/pinger-parser/jupyter/data/data_one_sec.csv', names=header_list)"
   ]
  },
  {
   "cell_type": "code",
   "execution_count": 6,
   "id": "f1f5e8b8",
   "metadata": {},
   "outputs": [
    {
     "data": {
      "text/html": [
       "<div>\n",
       "<style scoped>\n",
       "    .dataframe tbody tr th:only-of-type {\n",
       "        vertical-align: middle;\n",
       "    }\n",
       "\n",
       "    .dataframe tbody tr th {\n",
       "        vertical-align: top;\n",
       "    }\n",
       "\n",
       "    .dataframe thead th {\n",
       "        text-align: right;\n",
       "    }\n",
       "</style>\n",
       "<table border=\"1\" class=\"dataframe\">\n",
       "  <thead>\n",
       "    <tr style=\"text-align: right;\">\n",
       "      <th></th>\n",
       "      <th>timestamp</th>\n",
       "      <th>latency_ms</th>\n",
       "    </tr>\n",
       "  </thead>\n",
       "  <tbody>\n",
       "    <tr>\n",
       "      <th>0</th>\n",
       "      <td>1651876300</td>\n",
       "      <td>33.36</td>\n",
       "    </tr>\n",
       "    <tr>\n",
       "      <th>1</th>\n",
       "      <td>1651876301</td>\n",
       "      <td>6.74</td>\n",
       "    </tr>\n",
       "    <tr>\n",
       "      <th>2</th>\n",
       "      <td>1651876302</td>\n",
       "      <td>7.34</td>\n",
       "    </tr>\n",
       "    <tr>\n",
       "      <th>3</th>\n",
       "      <td>1651876303</td>\n",
       "      <td>6.46</td>\n",
       "    </tr>\n",
       "    <tr>\n",
       "      <th>4</th>\n",
       "      <td>1651876304</td>\n",
       "      <td>6.44</td>\n",
       "    </tr>\n",
       "  </tbody>\n",
       "</table>\n",
       "</div>"
      ],
      "text/plain": [
       "    timestamp  latency_ms\n",
       "0  1651876300       33.36\n",
       "1  1651876301        6.74\n",
       "2  1651876302        7.34\n",
       "3  1651876303        6.46\n",
       "4  1651876304        6.44"
      ]
     },
     "execution_count": 6,
     "metadata": {},
     "output_type": "execute_result"
    }
   ],
   "source": [
    "df.head()"
   ]
  },
  {
   "cell_type": "code",
   "execution_count": 25,
   "id": "c8ad6f25",
   "metadata": {},
   "outputs": [
    {
     "data": {
      "image/png": "[encoded data removed]",
      "text/plain": [
       "<Figure size 1008x576 with 1 Axes>"
      ]
     },
     "metadata": {
      "needs_background": "light"
     },
     "output_type": "display_data"
    }
   ],
   "source": [
    "ax1 = df.plot.scatter(x='timestamp', y='latency_ms', figsize=(14,8))"
   ]
  },
  {
   "cell_type": "code",
   "execution_count": 9,
   "id": "5e835f6b",
   "metadata": {},
   "outputs": [
    {
     "data": {
      "text/plain": [
       "timestamp     1.651877e+09\n",
       "latency_ms    6.580000e+00\n",
       "Name: 0.5, dtype: float64"
      ]
     },
     "execution_count": 9,
     "metadata": {},
     "output_type": "execute_result"
    }
   ],
   "source": [
    "df.quantile(.5)"
   ]
  },
  {
   "cell_type": "code",
   "execution_count": 10,
   "id": "ae6234a4",
   "metadata": {},
   "outputs": [
    {
     "data": {
      "text/plain": [
       "timestamp     1.651877e+09\n",
       "latency_ms    7.330000e+00\n",
       "Name: 0.9, dtype: float64"
      ]
     },
     "execution_count": 10,
     "metadata": {},
     "output_type": "execute_result"
    }
   ],
   "source": [
    "df.quantile(.9)"
   ]
  },
  {
   "cell_type": "code",
   "execution_count": 11,
   "id": "3a868709",
   "metadata": {},
   "outputs": [
    {
     "data": {
      "text/plain": [
       "timestamp     1.651878e+09\n",
       "latency_ms    9.042000e+00\n",
       "Name: 0.95, dtype: float64"
      ]
     },
     "execution_count": 11,
     "metadata": {},
     "output_type": "execute_result"
    }
   ],
   "source": [
    "df.quantile(.95)"
   ]
  },
  {
   "cell_type": "code",
   "execution_count": 12,
   "id": "8c7180b2",
   "metadata": {},
   "outputs": [
    {
     "data": {
      "text/plain": [
       "timestamp     1.651878e+09\n",
       "latency_ms    3.308080e+01\n",
       "Name: 0.99, dtype: float64"
      ]
     },
     "execution_count": 12,
     "metadata": {},
     "output_type": "execute_result"
    }
   ],
   "source": [
    "df.quantile(.99)"
   ]
  },
  {
   "cell_type": "code",
   "execution_count": 13,
   "id": "6288c575",
   "metadata": {},
   "outputs": [],
   "source": [
    "df_latencies = df['latency_ms']"
   ]
  },
  {
   "cell_type": "code",
   "execution_count": 14,
   "id": "d7c95836",
   "metadata": {},
   "outputs": [
    {
     "data": {
      "text/plain": [
       "0    33.36\n",
       "1     6.74\n",
       "2     7.34\n",
       "3     6.46\n",
       "4     6.44\n",
       "Name: latency_ms, dtype: float64"
      ]
     },
     "execution_count": 14,
     "metadata": {},
     "output_type": "execute_result"
    }
   ],
   "source": [
    "df_latencies.head()"
   ]
  },
  {
   "cell_type": "code",
   "execution_count": 24,
   "id": "04ef7465",
   "metadata": {},
   "outputs": [
    {
     "data": {
      "image/png": "[encoded data removed]",
      "text/plain": [
       "<Figure size 1008x576 with 1 Axes>"
      ]
     },
     "metadata": {
      "needs_background": "light"
     },
     "output_type": "display_data"
    }
   ],
   "source": [
    "ax = df_latencies.plot.hist(bins=50, figsize=(14,8))"
   ]
  },
  {
   "cell_type": "code",
   "execution_count": 26,
   "id": "078c3b1a",
   "metadata": {},
   "outputs": [],
   "source": [
    "df2 = pd.read_csv('/Users/emelz/Documents/code/pinger-parser/jupyter/data/data_one_min.csv', names=header_list)"
   ]
  },
  {
   "cell_type": "code",
   "execution_count": 28,
   "id": "97e44e81",
   "metadata": {},
   "outputs": [
    {
     "data": {
      "text/html": [
       "<div>\n",
       "<style scoped>\n",
       "    .dataframe tbody tr th:only-of-type {\n",
       "        vertical-align: middle;\n",
       "    }\n",
       "\n",
       "    .dataframe tbody tr th {\n",
       "        vertical-align: top;\n",
       "    }\n",
       "\n",
       "    .dataframe thead th {\n",
       "        text-align: right;\n",
       "    }\n",
       "</style>\n",
       "<table border=\"1\" class=\"dataframe\">\n",
       "  <thead>\n",
       "    <tr style=\"text-align: right;\">\n",
       "      <th></th>\n",
       "      <th>timestamp</th>\n",
       "      <th>latency_ms</th>\n",
       "    </tr>\n",
       "  </thead>\n",
       "  <tbody>\n",
       "    <tr>\n",
       "      <th>0</th>\n",
       "      <td>1651877810</td>\n",
       "      <td>34.97</td>\n",
       "    </tr>\n",
       "    <tr>\n",
       "      <th>1</th>\n",
       "      <td>1651877870</td>\n",
       "      <td>32.63</td>\n",
       "    </tr>\n",
       "    <tr>\n",
       "      <th>2</th>\n",
       "      <td>1651877930</td>\n",
       "      <td>32.95</td>\n",
       "    </tr>\n",
       "    <tr>\n",
       "      <th>3</th>\n",
       "      <td>1651877990</td>\n",
       "      <td>32.33</td>\n",
       "    </tr>\n",
       "    <tr>\n",
       "      <th>4</th>\n",
       "      <td>1651878050</td>\n",
       "      <td>32.08</td>\n",
       "    </tr>\n",
       "  </tbody>\n",
       "</table>\n",
       "</div>"
      ],
      "text/plain": [
       "    timestamp  latency_ms\n",
       "0  1651877810       34.97\n",
       "1  1651877870       32.63\n",
       "2  1651877930       32.95\n",
       "3  1651877990       32.33\n",
       "4  1651878050       32.08"
      ]
     },
     "execution_count": 28,
     "metadata": {},
     "output_type": "execute_result"
    }
   ],
   "source": [
    "df2.head()"
   ]
  },
  {
   "cell_type": "code",
   "execution_count": 29,
   "id": "e8961e4b",
   "metadata": {},
   "outputs": [
    {
     "data": {
      "image/png": "[encoded data removed]",
      "text/plain": [
       "<Figure size 1008x576 with 1 Axes>"
      ]
     },
     "metadata": {
      "needs_background": "light"
     },
     "output_type": "display_data"
    }
   ],
   "source": [
    "ax1 = df2.plot.scatter(x='timestamp', y='latency_ms', figsize=(14,8))"
   ]
  },
  {
   "cell_type": "code",
   "execution_count": 30,
   "id": "978293fa",
   "metadata": {},
   "outputs": [
    {
     "data": {
      "text/plain": [
       "timestamp     1.651879e+09\n",
       "latency_ms    3.284000e+01\n",
       "Name: 0.5, dtype: float64"
      ]
     },
     "execution_count": 30,
     "metadata": {},
     "output_type": "execute_result"
    }
   ],
   "source": [
    "df2.quantile(.5)"
   ]
  },
  {
   "cell_type": "code",
   "execution_count": 31,
   "id": "20579f63",
   "metadata": {},
   "outputs": [
    {
     "data": {
      "text/plain": [
       "timestamp     1.651880e+09\n",
       "latency_ms    3.509600e+01\n",
       "Name: 0.9, dtype: float64"
      ]
     },
     "execution_count": 31,
     "metadata": {},
     "output_type": "execute_result"
    }
   ],
   "source": [
    "df2.quantile(.9)"
   ]
  },
  {
   "cell_type": "code",
   "execution_count": 32,
   "id": "acd16dd9",
   "metadata": {},
   "outputs": [
    {
     "data": {
      "text/plain": [
       "timestamp     1.651880e+09\n",
       "latency_ms    3.643300e+01\n",
       "Name: 0.95, dtype: float64"
      ]
     },
     "execution_count": 32,
     "metadata": {},
     "output_type": "execute_result"
    }
   ],
   "source": [
    "df2.quantile(.95)"
   ]
  },
  {
   "cell_type": "code",
   "execution_count": 33,
   "id": "e8d186fb",
   "metadata": {},
   "outputs": [
    {
     "data": {
      "text/plain": [
       "timestamp     1.651880e+09\n",
       "latency_ms    4.855680e+01\n",
       "Name: 0.99, dtype: float64"
      ]
     },
     "execution_count": 33,
     "metadata": {},
     "output_type": "execute_result"
    }
   ],
   "source": [
    "df2.quantile(.99)"
   ]
  },
  {
   "cell_type": "code",
   "execution_count": 34,
   "id": "4296b964",
   "metadata": {},
   "outputs": [],
   "source": [
    "df2_latencies = df2['latency_ms']"
   ]
  },
  {
   "cell_type": "code",
   "execution_count": 35,
   "id": "a48f3183",
   "metadata": {},
   "outputs": [
    {
     "data": {
      "text/plain": [
       "0    34.97\n",
       "1    32.63\n",
       "2    32.95\n",
       "3    32.33\n",
       "4    32.08\n",
       "Name: latency_ms, dtype: float64"
      ]
     },
     "execution_count": 35,
     "metadata": {},
     "output_type": "execute_result"
    }
   ],
   "source": [
    "df2_latencies.head()"
   ]
  },
  {
   "cell_type": "code",
   "execution_count": 37,
   "id": "decb90ed",
   "metadata": {},
   "outputs": [
    {
     "data": {
      "image/png": "[encoded data removed]",
      "text/plain": [
       "<Figure size 1008x576 with 1 Axes>"
      ]
     },
     "metadata": {
      "needs_background": "light"
     },
     "output_type": "display_data"
    }
   ],
   "source": [
    "ax = df2_latencies.plot.hist(bins=50, figsize=(14,8))"
   ]
  },
  {
   "cell_type": "code",
   "execution_count": 42,
   "id": "5233a4d1",
   "metadata": {},
   "outputs": [],
   "source": [
    "df3 = pd.DataFrame(columns=['sec', 'min'])"
   ]
  },
  {
   "cell_type": "code",
   "execution_count": 44,
   "id": "483e08ac",
   "metadata": {},
   "outputs": [],
   "source": [
    "df3['sec'] = df_latencies"
   ]
  },
  {
   "cell_type": "code",
   "execution_count": 45,
   "id": "67953cba",
   "metadata": {},
   "outputs": [],
   "source": [
    "df3['min'] = df2_latencies"
   ]
  },
  {
   "cell_type": "code",
   "execution_count": 46,
   "id": "3a876669",
   "metadata": {},
   "outputs": [
    {
     "data": {
      "text/html": [
       "<div>\n",
       "<style scoped>\n",
       "    .dataframe tbody tr th:only-of-type {\n",
       "        vertical-align: middle;\n",
       "    }\n",
       "\n",
       "    .dataframe tbody tr th {\n",
       "        vertical-align: top;\n",
       "    }\n",
       "\n",
       "    .dataframe thead th {\n",
       "        text-align: right;\n",
       "    }\n",
       "</style>\n",
       "<table border=\"1\" class=\"dataframe\">\n",
       "  <thead>\n",
       "    <tr style=\"text-align: right;\">\n",
       "      <th></th>\n",
       "      <th>sec</th>\n",
       "      <th>min</th>\n",
       "    </tr>\n",
       "  </thead>\n",
       "  <tbody>\n",
       "    <tr>\n",
       "      <th>0</th>\n",
       "      <td>33.36</td>\n",
       "      <td>34.97</td>\n",
       "    </tr>\n",
       "    <tr>\n",
       "      <th>1</th>\n",
       "      <td>6.74</td>\n",
       "      <td>32.63</td>\n",
       "    </tr>\n",
       "    <tr>\n",
       "      <th>2</th>\n",
       "      <td>7.34</td>\n",
       "      <td>32.95</td>\n",
       "    </tr>\n",
       "    <tr>\n",
       "      <th>3</th>\n",
       "      <td>6.46</td>\n",
       "      <td>32.33</td>\n",
       "    </tr>\n",
       "    <tr>\n",
       "      <th>4</th>\n",
       "      <td>6.44</td>\n",
       "      <td>32.08</td>\n",
       "    </tr>\n",
       "  </tbody>\n",
       "</table>\n",
       "</div>"
      ],
      "text/plain": [
       "     sec    min\n",
       "0  33.36  34.97\n",
       "1   6.74  32.63\n",
       "2   7.34  32.95\n",
       "3   6.46  32.33\n",
       "4   6.44  32.08"
      ]
     },
     "execution_count": 46,
     "metadata": {},
     "output_type": "execute_result"
    }
   ],
   "source": [
    "df3.head()"
   ]
  },
  {
   "cell_type": "code",
   "execution_count": 47,
   "id": "41c0c365",
   "metadata": {},
   "outputs": [
    {
     "data": {
      "image/png": "[encoded data removed]",
      "text/plain": [
       "<Figure size 1008x576 with 1 Axes>"
      ]
     },
     "metadata": {
      "needs_background": "light"
     },
     "output_type": "display_data"
    }
   ],
   "source": [
    "ax = df3.plot.hist(bins=50, alpha=0.5, figsize=(14,8))"
   ]
  },
  {
   "cell_type": "code",
   "execution_count": null,
   "id": "9d58e082",
   "metadata": {},
   "outputs": [],
   "source": []
  }
 ],
 "metadata": {
  "kernelspec": {
   "display_name": "XCS221",
   "language": "python",
   "name": "xcs221"
  },
  "language_info": {
   "codemirror_mode": {
    "name": "ipython",
    "version": 3
   },
   "file_extension": ".py",
   "mimetype": "text/x-python",
   "name": "python",
   "nbconvert_exporter": "python",
   "pygments_lexer": "ipython3",
   "version": "3.6.9"
  }
 },
 "nbformat": 4,
 "nbformat_minor": 5
}
